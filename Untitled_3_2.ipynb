{
  "cells": [
    {
      "cell_type": "markdown",
      "metadata": {
        "id": "view-in-github",
        "colab_type": "text"
      },
      "source": [
        "<a href=\"https://colab.research.google.com/github/mir-develop/university-projects-python/blob/main/Untitled_3_2.ipynb\" target=\"_parent\"><img src=\"https://colab.research.google.com/assets/colab-badge.svg\" alt=\"Open In Colab\"/></a>"
      ]
    },
    {
      "cell_type": "markdown",
      "metadata": {
        "id": "Kwt9wzXzjBRC"
      },
      "source": [
        "# Иванов Михаил Романович, ИСТ-2017"
      ]
    },
    {
      "cell_type": "markdown",
      "metadata": {
        "id": "_iuyF1MpjBRF"
      },
      "source": [
        "## Задача 1\n",
        "### Задать три числа, посчитать и вывести a*b*c, a+b-c, a/b, a%c"
      ]
    },
    {
      "cell_type": "code",
      "execution_count": null,
      "metadata": {
        "id": "KG9OVAeAjBRG",
        "outputId": "4857c58e-39d6-41a9-ec79-6a23166f75d0"
      },
      "outputs": [
        {
          "name": "stdout",
          "output_type": "stream",
          "text": [
            "1\n",
            "2\n",
            "3\n",
            "a*b*c = 6; a+b-c = 0; a/b = 0.5; a%c = 1\n"
          ]
        }
      ],
      "source": [
        "a = int(input())\n",
        "b = int(input())\n",
        "c = int(input())\n",
        "q = str(a*b*c)\n",
        "w = str(a+b-c)\n",
        "e = str(a/b)\n",
        "r = str(a%c)\n",
        "print('a*b*c = '+ q +'; '+'a+b-c = '+ w +'; '+'a/b = '+ e + '; '+'a%c = '+ r)"
      ]
    },
    {
      "cell_type": "markdown",
      "metadata": {
        "id": "Q-fKBv3qjBRI"
      },
      "source": [
        "## Задача 2\n",
        "### Для заданного списка посчитать сумму его элементов, используя цикл"
      ]
    },
    {
      "cell_type": "code",
      "execution_count": null,
      "metadata": {
        "id": "jE4Htn9ljBRI"
      },
      "outputs": [],
      "source": [
        "a = [10,4,6,7,8,9,9,0,8,7,8]\n",
        "s = 0\n",
        "for i in range(11):\n",
        "    s = s + a[i]\n",
        "print(s)    "
      ]
    },
    {
      "cell_type": "markdown",
      "metadata": {
        "id": "1Wc-VAJYjBRJ"
      },
      "source": [
        "## Задача 3\n",
        "### Из первых 100 натуральных чисел вывести все простые"
      ]
    },
    {
      "cell_type": "code",
      "execution_count": null,
      "metadata": {
        "scrolled": true,
        "id": "6nZ67MwRjBRK",
        "outputId": "2b80918a-4411-47c3-80ba-6bd0bd50de55"
      },
      "outputs": [
        {
          "name": "stdout",
          "output_type": "stream",
          "text": [
            "2 3 5 7 11 13 17 19 23 29 31 37 41 43 47 53 59 61 67 71 73 79 83 89 97 "
          ]
        }
      ],
      "source": [
        "i=2\n",
        "while i<=100:\n",
        "    f=True\n",
        "    j=2\n",
        "    while f and j<i:\n",
        "        if not i%j:\n",
        "            f=False\n",
        "        j+=1\n",
        "    if f:\n",
        "        print(i,end=' ')\n",
        "    i+=1"
      ]
    },
    {
      "cell_type": "markdown",
      "metadata": {
        "id": "ToWlPQ7fjBRL"
      },
      "source": [
        "## Задача 4\n",
        "### Считать дату - два числа(день,месяц). Вывести true, если такой день может присутствовать в календаре."
      ]
    },
    {
      "cell_type": "code",
      "execution_count": null,
      "metadata": {
        "id": "spEyx7yPjBRL",
        "outputId": "7f933d61-4293-4877-846f-c68166e0a2f9"
      },
      "outputs": [
        {
          "name": "stdout",
          "output_type": "stream",
          "text": [
            "30\n",
            "2\n",
            "false\n"
          ]
        }
      ],
      "source": [
        "d = int(input())\n",
        "m = int(input())\n",
        "if (m>0)and(m<13)and(m%2==0):\n",
        "    if (m==2):\n",
        "        if (d>0)and(d<29):\n",
        "            print(\"true\")\n",
        "        else:\n",
        "            print(\"false\")\n",
        "    else:\n",
        "        if (d>0)and(d<31):\n",
        "            print(\"true\")\n",
        "else:\n",
        "    if (d>0)and(d<32):\n",
        "        print(\"true\")\n",
        "    else:\n",
        "        print(\"false\")"
      ]
    },
    {
      "cell_type": "markdown",
      "metadata": {
        "id": "eeA890SbjBRM"
      },
      "source": [
        "## Задача 5\n",
        "### Ввести несколько чисел с клавиатуры, посчитать их среднее значение."
      ]
    },
    {
      "cell_type": "code",
      "execution_count": null,
      "metadata": {
        "id": "XVhVQmOYjBRM",
        "outputId": "2aa9094c-a58a-4d2b-e772-d551c3716fd0"
      },
      "outputs": [
        {
          "name": "stdout",
          "output_type": "stream",
          "text": [
            "сколько будет чисел?\n",
            "10\n",
            "введите числа\n",
            "1\n",
            "2\n",
            "3\n",
            "4\n",
            "5\n",
            "6\n",
            "7\n",
            "8\n",
            "9\n",
            "10\n",
            "среднее значение равно  5.5\n"
          ]
        }
      ],
      "source": [
        "print(\"сколько будет чисел?\")\n",
        "size = int(input())\n",
        "print(\"введите числа\")\n",
        "i = 1\n",
        "summa = 0\n",
        "while i<=size:\n",
        "    number = int(input())\n",
        "    summa += number\n",
        "    i+=1\n",
        "print(\"среднее значение равно \",summa/size)\n"
      ]
    },
    {
      "cell_type": "code",
      "execution_count": null,
      "metadata": {
        "id": "meVWfRZ3jBRN"
      },
      "outputs": [],
      "source": [
        ""
      ]
    }
  ],
  "metadata": {
    "kernelspec": {
      "display_name": "Python 3",
      "language": "python",
      "name": "python3"
    },
    "language_info": {
      "codemirror_mode": {
        "name": "ipython",
        "version": 3
      },
      "file_extension": ".py",
      "mimetype": "text/x-python",
      "name": "python",
      "nbconvert_exporter": "python",
      "pygments_lexer": "ipython3",
      "version": "3.7.4"
    },
    "colab": {
      "name": "Untitled-3-2.ipynb",
      "provenance": [],
      "include_colab_link": true
    }
  },
  "nbformat": 4,
  "nbformat_minor": 0
}