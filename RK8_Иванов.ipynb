{
  "nbformat": 4,
  "nbformat_minor": 0,
  "metadata": {
    "kernelspec": {
      "display_name": "Python 3",
      "language": "python",
      "name": "python3"
    },
    "language_info": {
      "codemirror_mode": {
        "name": "ipython",
        "version": 3
      },
      "file_extension": ".py",
      "mimetype": "text/x-python",
      "name": "python",
      "nbconvert_exporter": "python",
      "pygments_lexer": "ipython3",
      "version": "3.7.6"
    },
    "colab": {
      "name": "RK8_Иванов.ipynb",
      "provenance": [],
      "collapsed_sections": [
        "7AHjoAeG4uSQ",
        "vHPPP7cf4_z3"
      ],
      "include_colab_link": true
    }
  },
  "cells": [
    {
      "cell_type": "markdown",
      "metadata": {
        "id": "view-in-github",
        "colab_type": "text"
      },
      "source": [
        "<a href=\"https://colab.research.google.com/github/mir-develop/university-projects-python/blob/main/RK8_%D0%98%D0%B2%D0%B0%D0%BD%D0%BE%D0%B2.ipynb\" target=\"_parent\"><img src=\"https://colab.research.google.com/assets/colab-badge.svg\" alt=\"Open In Colab\"/></a>"
      ]
    },
    {
      "cell_type": "markdown",
      "metadata": {
        "id": "RTZYHbUt27ly"
      },
      "source": [
        "# Иванов Михаил Романович, ИСТ-2017"
      ]
    },
    {
      "cell_type": "markdown",
      "metadata": {
        "id": "8BMS73a53KbW"
      },
      "source": [
        "## Рубежный контроль к разделу 8"
      ]
    },
    {
      "cell_type": "markdown",
      "metadata": {
        "id": "ZL5qHHSp3zFE"
      },
      "source": [
        "https://blog.keras.io/building-autoencoders-in-keras.html"
      ]
    },
    {
      "cell_type": "markdown",
      "metadata": {
        "id": "ZL1C9Nij27l_"
      },
      "source": [
        "### Let's build the simplest possible autoencoder"
      ]
    },
    {
      "cell_type": "code",
      "metadata": {
        "id": "0uX-RXHF27mT",
        "colab": {
          "base_uri": "https://localhost:8080/",
          "height": 34
        },
        "outputId": "4cca5e1c-98dd-45fa-93f6-7ed0bc92a8ff"
      },
      "source": [
        "from keras.layers import Input, Dense\n",
        "from keras.models import Model\n",
        "\n",
        "# this is the size of our encoded representations\n",
        "encoding_dim = 32  # 32 floats -> compression of factor 24.5, assuming the input is 784 floats\n",
        "\n",
        "# this is our input placeholder\n",
        "input_img = Input(shape=(784,))\n",
        "# \"encoded\" is the encoded representation of the input\n",
        "encoded = Dense(encoding_dim, activation='relu')(input_img)\n",
        "# \"decoded\" is the lossy reconstruction of the input\n",
        "decoded = Dense(784, activation='sigmoid')(encoded)\n",
        "\n",
        "# this model maps an input to its reconstruction\n",
        "autoencoder = Model(input_img, decoded)"
      ],
      "execution_count": null,
      "outputs": [
        {
          "output_type": "stream",
          "text": [
            "Using TensorFlow backend.\n"
          ],
          "name": "stderr"
        }
      ]
    },
    {
      "cell_type": "code",
      "metadata": {
        "id": "MbIprMbn27mf"
      },
      "source": [
        "# this model maps an input to its encoded representation\n",
        "encoder = Model(input_img, encoded)"
      ],
      "execution_count": null,
      "outputs": []
    },
    {
      "cell_type": "code",
      "metadata": {
        "id": "4Henuipn27nF"
      },
      "source": [
        "# create a placeholder for an encoded (32-dimensional) input\n",
        "encoded_input = Input(shape=(encoding_dim,))\n",
        "# retrieve the last layer of the autoencoder model\n",
        "decoder_layer = autoencoder.layers[-1]\n",
        "# create the decoder model\n",
        "decoder = Model(encoded_input, decoder_layer(encoded_input))"
      ],
      "execution_count": null,
      "outputs": []
    },
    {
      "cell_type": "code",
      "metadata": {
        "id": "CY-_nSiH27nN"
      },
      "source": [
        "autoencoder.compile(optimizer='adadelta', loss='binary_crossentropy')"
      ],
      "execution_count": null,
      "outputs": []
    },
    {
      "cell_type": "code",
      "metadata": {
        "id": "-dPvGIGj27nT",
        "colab": {
          "base_uri": "https://localhost:8080/",
          "height": 51
        },
        "outputId": "ac602a16-1e69-4db7-d31b-001620c71d00"
      },
      "source": [
        "from keras.datasets import mnist\n",
        "import numpy as np\n",
        "(x_train, _), (x_test, _) = mnist.load_data()"
      ],
      "execution_count": null,
      "outputs": [
        {
          "output_type": "stream",
          "text": [
            "Downloading data from https://s3.amazonaws.com/img-datasets/mnist.npz\n",
            "11493376/11490434 [==============================] - 1s 0us/step\n"
          ],
          "name": "stdout"
        }
      ]
    },
    {
      "cell_type": "code",
      "metadata": {
        "id": "dUPnNykq27nX",
        "colab": {
          "base_uri": "https://localhost:8080/",
          "height": 51
        },
        "outputId": "39291aa1-8073-477b-dec9-375327eb5841"
      },
      "source": [
        "x_train = x_train.astype('float32') / 255.\n",
        "x_test = x_test.astype('float32') / 255.\n",
        "x_train = x_train.reshape((len(x_train), np.prod(x_train.shape[1:])))\n",
        "x_test = x_test.reshape((len(x_test), np.prod(x_test.shape[1:])))\n",
        "print (x_train.shape)\n",
        "print (x_test.shape)"
      ],
      "execution_count": null,
      "outputs": [
        {
          "output_type": "stream",
          "text": [
            "(60000, 784)\n",
            "(10000, 784)\n"
          ],
          "name": "stdout"
        }
      ]
    },
    {
      "cell_type": "markdown",
      "metadata": {
        "id": "7AHjoAeG4uSQ"
      },
      "source": [
        "#### при запуске на 50 эпохах"
      ]
    },
    {
      "cell_type": "code",
      "metadata": {
        "scrolled": true,
        "id": "eZcA1TmK27nw",
        "colab": {
          "base_uri": "https://localhost:8080/",
          "height": 1000
        },
        "outputId": "42cd55f8-901f-4ff3-a108-0ba037f651e6"
      },
      "source": [
        "autoencoder.fit(x_train, x_train,\n",
        "                epochs=50,\n",
        "                batch_size=256,\n",
        "                shuffle=True,\n",
        "                validation_data=(x_test, x_test))"
      ],
      "execution_count": null,
      "outputs": [
        {
          "output_type": "stream",
          "text": [
            "Train on 60000 samples, validate on 10000 samples\n",
            "Epoch 1/50\n",
            "60000/60000 [==============================] - 2s 40us/step - loss: 0.0938 - val_loss: 0.0925\n",
            "Epoch 2/50\n",
            "60000/60000 [==============================] - 2s 39us/step - loss: 0.0938 - val_loss: 0.0925\n",
            "Epoch 3/50\n",
            "60000/60000 [==============================] - 2s 40us/step - loss: 0.0937 - val_loss: 0.0925\n",
            "Epoch 4/50\n",
            "60000/60000 [==============================] - 2s 41us/step - loss: 0.0937 - val_loss: 0.0925\n",
            "Epoch 5/50\n",
            "60000/60000 [==============================] - 2s 39us/step - loss: 0.0937 - val_loss: 0.0924\n",
            "Epoch 6/50\n",
            "60000/60000 [==============================] - 2s 41us/step - loss: 0.0937 - val_loss: 0.0924\n",
            "Epoch 7/50\n",
            "60000/60000 [==============================] - 3s 42us/step - loss: 0.0937 - val_loss: 0.0925\n",
            "Epoch 8/50\n",
            "60000/60000 [==============================] - 2s 41us/step - loss: 0.0937 - val_loss: 0.0924\n",
            "Epoch 9/50\n",
            "60000/60000 [==============================] - 2s 41us/step - loss: 0.0937 - val_loss: 0.0924\n",
            "Epoch 10/50\n",
            "60000/60000 [==============================] - 3s 42us/step - loss: 0.0937 - val_loss: 0.0924\n",
            "Epoch 11/50\n",
            "60000/60000 [==============================] - 3s 42us/step - loss: 0.0937 - val_loss: 0.0924\n",
            "Epoch 12/50\n",
            "60000/60000 [==============================] - 3s 42us/step - loss: 0.0937 - val_loss: 0.0924\n",
            "Epoch 13/50\n",
            "60000/60000 [==============================] - 2s 41us/step - loss: 0.0937 - val_loss: 0.0924\n",
            "Epoch 14/50\n",
            "60000/60000 [==============================] - 3s 42us/step - loss: 0.0937 - val_loss: 0.0924\n",
            "Epoch 15/50\n",
            "60000/60000 [==============================] - 2s 42us/step - loss: 0.0937 - val_loss: 0.0924\n",
            "Epoch 16/50\n",
            "60000/60000 [==============================] - 2s 42us/step - loss: 0.0937 - val_loss: 0.0924\n",
            "Epoch 17/50\n",
            "60000/60000 [==============================] - 3s 42us/step - loss: 0.0937 - val_loss: 0.0924\n",
            "Epoch 18/50\n",
            "60000/60000 [==============================] - 2s 42us/step - loss: 0.0937 - val_loss: 0.0924\n",
            "Epoch 19/50\n",
            "60000/60000 [==============================] - 3s 42us/step - loss: 0.0936 - val_loss: 0.0924\n",
            "Epoch 20/50\n",
            "60000/60000 [==============================] - 3s 42us/step - loss: 0.0936 - val_loss: 0.0924\n",
            "Epoch 21/50\n",
            "60000/60000 [==============================] - 3s 42us/step - loss: 0.0936 - val_loss: 0.0924\n",
            "Epoch 22/50\n",
            "60000/60000 [==============================] - 3s 42us/step - loss: 0.0936 - val_loss: 0.0924\n",
            "Epoch 23/50\n",
            "60000/60000 [==============================] - 3s 42us/step - loss: 0.0936 - val_loss: 0.0924\n",
            "Epoch 24/50\n",
            "60000/60000 [==============================] - 3s 43us/step - loss: 0.0936 - val_loss: 0.0923\n",
            "Epoch 25/50\n",
            "60000/60000 [==============================] - 3s 43us/step - loss: 0.0936 - val_loss: 0.0923\n",
            "Epoch 26/50\n",
            "60000/60000 [==============================] - 3s 42us/step - loss: 0.0936 - val_loss: 0.0923\n",
            "Epoch 27/50\n",
            "60000/60000 [==============================] - 3s 42us/step - loss: 0.0936 - val_loss: 0.0923\n",
            "Epoch 28/50\n",
            "60000/60000 [==============================] - 2s 41us/step - loss: 0.0936 - val_loss: 0.0923\n",
            "Epoch 29/50\n",
            "60000/60000 [==============================] - 3s 42us/step - loss: 0.0936 - val_loss: 0.0923\n",
            "Epoch 30/50\n",
            "60000/60000 [==============================] - 3s 42us/step - loss: 0.0936 - val_loss: 0.0923\n",
            "Epoch 31/50\n",
            "60000/60000 [==============================] - 3s 42us/step - loss: 0.0936 - val_loss: 0.0923\n",
            "Epoch 32/50\n",
            "60000/60000 [==============================] - 3s 42us/step - loss: 0.0936 - val_loss: 0.0923\n",
            "Epoch 33/50\n",
            "60000/60000 [==============================] - 3s 42us/step - loss: 0.0936 - val_loss: 0.0923\n",
            "Epoch 34/50\n",
            "60000/60000 [==============================] - 2s 41us/step - loss: 0.0936 - val_loss: 0.0923\n",
            "Epoch 35/50\n",
            "60000/60000 [==============================] - 3s 42us/step - loss: 0.0936 - val_loss: 0.0923\n",
            "Epoch 36/50\n",
            "60000/60000 [==============================] - 3s 43us/step - loss: 0.0936 - val_loss: 0.0923\n",
            "Epoch 37/50\n",
            "60000/60000 [==============================] - 2s 42us/step - loss: 0.0936 - val_loss: 0.0923\n",
            "Epoch 38/50\n",
            "60000/60000 [==============================] - 2s 42us/step - loss: 0.0935 - val_loss: 0.0923\n",
            "Epoch 39/50\n",
            "60000/60000 [==============================] - 3s 42us/step - loss: 0.0935 - val_loss: 0.0923\n",
            "Epoch 40/50\n",
            "60000/60000 [==============================] - 2s 42us/step - loss: 0.0935 - val_loss: 0.0923\n",
            "Epoch 41/50\n",
            "60000/60000 [==============================] - 3s 42us/step - loss: 0.0935 - val_loss: 0.0923\n",
            "Epoch 42/50\n",
            "60000/60000 [==============================] - 3s 42us/step - loss: 0.0935 - val_loss: 0.0923\n",
            "Epoch 43/50\n",
            "60000/60000 [==============================] - 3s 43us/step - loss: 0.0935 - val_loss: 0.0923\n",
            "Epoch 44/50\n",
            "60000/60000 [==============================] - 3s 42us/step - loss: 0.0935 - val_loss: 0.0923\n",
            "Epoch 45/50\n",
            "60000/60000 [==============================] - 3s 44us/step - loss: 0.0935 - val_loss: 0.0922\n",
            "Epoch 46/50\n",
            "60000/60000 [==============================] - 3s 44us/step - loss: 0.0935 - val_loss: 0.0922\n",
            "Epoch 47/50\n",
            "60000/60000 [==============================] - 3s 43us/step - loss: 0.0935 - val_loss: 0.0922\n",
            "Epoch 48/50\n",
            "60000/60000 [==============================] - 3s 43us/step - loss: 0.0935 - val_loss: 0.0922\n",
            "Epoch 49/50\n",
            "60000/60000 [==============================] - 3s 42us/step - loss: 0.0935 - val_loss: 0.0922\n",
            "Epoch 50/50\n",
            "60000/60000 [==============================] - 3s 43us/step - loss: 0.0935 - val_loss: 0.0922\n"
          ],
          "name": "stdout"
        },
        {
          "output_type": "execute_result",
          "data": {
            "text/plain": [
              "<keras.callbacks.callbacks.History at 0x7efd33cc50f0>"
            ]
          },
          "metadata": {
            "tags": []
          },
          "execution_count": 19
        }
      ]
    },
    {
      "cell_type": "code",
      "metadata": {
        "id": "9SLOa23R27n6"
      },
      "source": [
        "# encode and decode some digits\n",
        "# note that we take them from the *test* set\n",
        "encoded_imgs = encoder.predict(x_test)\n",
        "decoded_imgs = decoder.predict(encoded_imgs)"
      ],
      "execution_count": null,
      "outputs": []
    },
    {
      "cell_type": "code",
      "metadata": {
        "id": "Bi4l6hyP27n9",
        "colab": {
          "base_uri": "https://localhost:8080/",
          "height": 248
        },
        "outputId": "05dcc4cd-ef65-4866-b697-ff743bc3fed6"
      },
      "source": [
        "# use Matplotlib (don't ask)\n",
        "import matplotlib.pyplot as plt\n",
        "\n",
        "n = 10  # how many digits we will display\n",
        "plt.figure(figsize=(20, 4))\n",
        "for i in range(n):\n",
        "    # display original\n",
        "    ax = plt.subplot(2, n, i + 1)\n",
        "    plt.imshow(x_test[i].reshape(28, 28))\n",
        "    plt.gray()\n",
        "    ax.get_xaxis().set_visible(False)\n",
        "    ax.get_yaxis().set_visible(False)\n",
        "\n",
        "    # display reconstruction\n",
        "    ax = plt.subplot(2, n, i + 1 + n)\n",
        "    plt.imshow(decoded_imgs[i].reshape(28, 28))\n",
        "    plt.gray()\n",
        "    ax.get_xaxis().set_visible(False)\n",
        "    ax.get_yaxis().set_visible(False)\n",
        "plt.show()"
      ],
      "execution_count": null,
      "outputs": [
        {
          "output_type": "display_data",
          "data": {
            "image/png": "[encoded data removed]",
            "text/plain": [
              "<Figure size 1440x288 with 20 Axes>"
            ]
          },
          "metadata": {
            "tags": [],
            "needs_background": "light"
          }
        }
      ]
    },
    {
      "cell_type": "markdown",
      "metadata": {
        "id": "vHPPP7cf4_z3"
      },
      "source": [
        "#### при запуске на 100 эпохах"
      ]
    },
    {
      "cell_type": "code",
      "metadata": {
        "id": "X_Y1Dsse6wuS",
        "colab": {
          "base_uri": "https://localhost:8080/",
          "height": 1000
        },
        "outputId": "e0341dd4-024a-4ee6-b3bd-2018cda500b0"
      },
      "source": [
        "autoencoder.fit(x_train, x_train,\n",
        "                epochs=100,\n",
        "                batch_size=256,\n",
        "                shuffle=True,\n",
        "                validation_data=(x_test, x_test))"
      ],
      "execution_count": null,
      "outputs": [
        {
          "output_type": "stream",
          "text": [
            "Train on 60000 samples, validate on 10000 samples\n",
            "Epoch 1/100\n",
            "60000/60000 [==============================] - 2s 41us/step - loss: 0.0935 - val_loss: 0.0922\n",
            "Epoch 2/100\n",
            "60000/60000 [==============================] - 2s 40us/step - loss: 0.0935 - val_loss: 0.0922\n",
            "Epoch 3/100\n",
            "60000/60000 [==============================] - 2s 41us/step - loss: 0.0935 - val_loss: 0.0922\n",
            "Epoch 4/100\n",
            "60000/60000 [==============================] - 3s 43us/step - loss: 0.0935 - val_loss: 0.0922\n",
            "Epoch 5/100\n",
            "60000/60000 [==============================] - 3s 42us/step - loss: 0.0935 - val_loss: 0.0922\n",
            "Epoch 6/100\n",
            "60000/60000 [==============================] - 3s 42us/step - loss: 0.0935 - val_loss: 0.0922\n",
            "Epoch 7/100\n",
            "60000/60000 [==============================] - 3s 42us/step - loss: 0.0935 - val_loss: 0.0922\n",
            "Epoch 8/100\n",
            "60000/60000 [==============================] - 2s 41us/step - loss: 0.0935 - val_loss: 0.0922\n",
            "Epoch 9/100\n",
            "60000/60000 [==============================] - 2s 40us/step - loss: 0.0934 - val_loss: 0.0922\n",
            "Epoch 10/100\n",
            "60000/60000 [==============================] - 2s 39us/step - loss: 0.0934 - val_loss: 0.0922\n",
            "Epoch 11/100\n",
            "60000/60000 [==============================] - 2s 40us/step - loss: 0.0934 - val_loss: 0.0922\n",
            "Epoch 12/100\n",
            "60000/60000 [==============================] - 2s 41us/step - loss: 0.0934 - val_loss: 0.0922\n",
            "Epoch 13/100\n",
            "60000/60000 [==============================] - 2s 40us/step - loss: 0.0934 - val_loss: 0.0922\n",
            "Epoch 14/100\n",
            "60000/60000 [==============================] - 2s 40us/step - loss: 0.0934 - val_loss: 0.0922\n",
            "Epoch 15/100\n",
            "60000/60000 [==============================] - 2s 41us/step - loss: 0.0934 - val_loss: 0.0922\n",
            "Epoch 16/100\n",
            "60000/60000 [==============================] - 2s 41us/step - loss: 0.0934 - val_loss: 0.0922\n",
            "Epoch 17/100\n",
            "60000/60000 [==============================] - 2s 41us/step - loss: 0.0934 - val_loss: 0.0922\n",
            "Epoch 18/100\n",
            "60000/60000 [==============================] - 2s 40us/step - loss: 0.0934 - val_loss: 0.0922\n",
            "Epoch 19/100\n",
            "60000/60000 [==============================] - 2s 41us/step - loss: 0.0934 - val_loss: 0.0921\n",
            "Epoch 20/100\n",
            "60000/60000 [==============================] - 2s 41us/step - loss: 0.0934 - val_loss: 0.0921\n",
            "Epoch 21/100\n",
            "60000/60000 [==============================] - 2s 42us/step - loss: 0.0934 - val_loss: 0.0922\n",
            "Epoch 22/100\n",
            "60000/60000 [==============================] - 3s 42us/step - loss: 0.0934 - val_loss: 0.0921\n",
            "Epoch 23/100\n",
            "60000/60000 [==============================] - 3s 42us/step - loss: 0.0934 - val_loss: 0.0921\n",
            "Epoch 24/100\n",
            "60000/60000 [==============================] - 3s 42us/step - loss: 0.0934 - val_loss: 0.0921\n",
            "Epoch 25/100\n",
            "60000/60000 [==============================] - 3s 43us/step - loss: 0.0934 - val_loss: 0.0921\n",
            "Epoch 26/100\n",
            "60000/60000 [==============================] - 2s 41us/step - loss: 0.0934 - val_loss: 0.0921\n",
            "Epoch 27/100\n",
            "60000/60000 [==============================] - 2s 41us/step - loss: 0.0934 - val_loss: 0.0921\n",
            "Epoch 28/100\n",
            "60000/60000 [==============================] - 3s 42us/step - loss: 0.0934 - val_loss: 0.0921\n",
            "Epoch 29/100\n",
            "60000/60000 [==============================] - 3s 42us/step - loss: 0.0934 - val_loss: 0.0921\n",
            "Epoch 30/100\n",
            "60000/60000 [==============================] - 2s 41us/step - loss: 0.0934 - val_loss: 0.0921\n",
            "Epoch 31/100\n",
            "60000/60000 [==============================] - 3s 42us/step - loss: 0.0934 - val_loss: 0.0921\n",
            "Epoch 32/100\n",
            "60000/60000 [==============================] - 3s 42us/step - loss: 0.0934 - val_loss: 0.0921\n",
            "Epoch 33/100\n",
            "60000/60000 [==============================] - 2s 42us/step - loss: 0.0934 - val_loss: 0.0921\n",
            "Epoch 34/100\n",
            "60000/60000 [==============================] - 2s 41us/step - loss: 0.0934 - val_loss: 0.0921\n",
            "Epoch 35/100\n",
            "60000/60000 [==============================] - 3s 42us/step - loss: 0.0933 - val_loss: 0.0921\n",
            "Epoch 36/100\n",
            "60000/60000 [==============================] - 3s 42us/step - loss: 0.0933 - val_loss: 0.0921\n",
            "Epoch 37/100\n",
            "60000/60000 [==============================] - 3s 42us/step - loss: 0.0933 - val_loss: 0.0921\n",
            "Epoch 38/100\n",
            "60000/60000 [==============================] - 3s 44us/step - loss: 0.0933 - val_loss: 0.0921\n",
            "Epoch 39/100\n",
            "60000/60000 [==============================] - 3s 43us/step - loss: 0.0933 - val_loss: 0.0921\n",
            "Epoch 40/100\n",
            "60000/60000 [==============================] - 3s 42us/step - loss: 0.0933 - val_loss: 0.0921\n",
            "Epoch 41/100\n",
            "60000/60000 [==============================] - 3s 43us/step - loss: 0.0933 - val_loss: 0.0921\n",
            "Epoch 42/100\n",
            "60000/60000 [==============================] - 3s 42us/step - loss: 0.0933 - val_loss: 0.0921\n",
            "Epoch 43/100\n",
            "60000/60000 [==============================] - 2s 41us/step - loss: 0.0933 - val_loss: 0.0921\n",
            "Epoch 44/100\n",
            "60000/60000 [==============================] - 2s 42us/step - loss: 0.0933 - val_loss: 0.0921\n",
            "Epoch 45/100\n",
            "60000/60000 [==============================] - 3s 42us/step - loss: 0.0933 - val_loss: 0.0921\n",
            "Epoch 46/100\n",
            "60000/60000 [==============================] - 3s 42us/step - loss: 0.0933 - val_loss: 0.0921\n",
            "Epoch 47/100\n",
            "60000/60000 [==============================] - 2s 41us/step - loss: 0.0933 - val_loss: 0.0921\n",
            "Epoch 48/100\n",
            "60000/60000 [==============================] - 3s 45us/step - loss: 0.0933 - val_loss: 0.0920\n",
            "Epoch 49/100\n",
            "60000/60000 [==============================] - 3s 45us/step - loss: 0.0933 - val_loss: 0.0920\n",
            "Epoch 50/100\n",
            "60000/60000 [==============================] - 3s 43us/step - loss: 0.0933 - val_loss: 0.0920\n",
            "Epoch 51/100\n",
            "60000/60000 [==============================] - 3s 42us/step - loss: 0.0933 - val_loss: 0.0920\n",
            "Epoch 52/100\n",
            "60000/60000 [==============================] - 2s 41us/step - loss: 0.0933 - val_loss: 0.0920\n",
            "Epoch 53/100\n",
            "60000/60000 [==============================] - 2s 42us/step - loss: 0.0933 - val_loss: 0.0920\n",
            "Epoch 54/100\n",
            "60000/60000 [==============================] - 3s 42us/step - loss: 0.0933 - val_loss: 0.0920\n",
            "Epoch 55/100\n",
            "60000/60000 [==============================] - 3s 42us/step - loss: 0.0933 - val_loss: 0.0920\n",
            "Epoch 56/100\n",
            "60000/60000 [==============================] - 3s 42us/step - loss: 0.0933 - val_loss: 0.0920\n",
            "Epoch 57/100\n",
            "60000/60000 [==============================] - 2s 42us/step - loss: 0.0933 - val_loss: 0.0920\n",
            "Epoch 58/100\n",
            "60000/60000 [==============================] - 3s 42us/step - loss: 0.0933 - val_loss: 0.0920\n",
            "Epoch 59/100\n",
            "60000/60000 [==============================] - 3s 42us/step - loss: 0.0933 - val_loss: 0.0920\n",
            "Epoch 60/100\n",
            "60000/60000 [==============================] - 2s 42us/step - loss: 0.0933 - val_loss: 0.0920\n",
            "Epoch 61/100\n",
            "60000/60000 [==============================] - 2s 41us/step - loss: 0.0933 - val_loss: 0.0920\n",
            "Epoch 62/100\n",
            "60000/60000 [==============================] - 2s 41us/step - loss: 0.0933 - val_loss: 0.0920\n",
            "Epoch 63/100\n",
            "60000/60000 [==============================] - 2s 41us/step - loss: 0.0933 - val_loss: 0.0920\n",
            "Epoch 64/100\n",
            "60000/60000 [==============================] - 2s 41us/step - loss: 0.0933 - val_loss: 0.0920\n",
            "Epoch 65/100\n",
            "60000/60000 [==============================] - 2s 41us/step - loss: 0.0932 - val_loss: 0.0920\n",
            "Epoch 66/100\n",
            "60000/60000 [==============================] - 2s 41us/step - loss: 0.0932 - val_loss: 0.0920\n",
            "Epoch 67/100\n",
            "60000/60000 [==============================] - 2s 41us/step - loss: 0.0932 - val_loss: 0.0920\n",
            "Epoch 68/100\n",
            "60000/60000 [==============================] - 2s 42us/step - loss: 0.0932 - val_loss: 0.0920\n",
            "Epoch 69/100\n",
            "60000/60000 [==============================] - 2s 41us/step - loss: 0.0932 - val_loss: 0.0920\n",
            "Epoch 70/100\n",
            "60000/60000 [==============================] - 2s 42us/step - loss: 0.0932 - val_loss: 0.0920\n",
            "Epoch 71/100\n",
            "60000/60000 [==============================] - 2s 40us/step - loss: 0.0932 - val_loss: 0.0920\n",
            "Epoch 72/100\n",
            "60000/60000 [==============================] - 2s 40us/step - loss: 0.0932 - val_loss: 0.0920\n",
            "Epoch 73/100\n",
            "60000/60000 [==============================] - 2s 41us/step - loss: 0.0932 - val_loss: 0.0920\n",
            "Epoch 74/100\n",
            "60000/60000 [==============================] - 2s 40us/step - loss: 0.0932 - val_loss: 0.0920\n",
            "Epoch 75/100\n",
            "60000/60000 [==============================] - 2s 41us/step - loss: 0.0932 - val_loss: 0.0920\n",
            "Epoch 76/100\n",
            "60000/60000 [==============================] - 2s 41us/step - loss: 0.0932 - val_loss: 0.0920\n",
            "Epoch 77/100\n",
            "60000/60000 [==============================] - 2s 41us/step - loss: 0.0932 - val_loss: 0.0920\n",
            "Epoch 78/100\n",
            "60000/60000 [==============================] - 2s 41us/step - loss: 0.0932 - val_loss: 0.0920\n",
            "Epoch 79/100\n",
            "60000/60000 [==============================] - 2s 42us/step - loss: 0.0932 - val_loss: 0.0920\n",
            "Epoch 80/100\n",
            "60000/60000 [==============================] - 2s 40us/step - loss: 0.0932 - val_loss: 0.0920\n",
            "Epoch 81/100\n",
            "60000/60000 [==============================] - 2s 41us/step - loss: 0.0932 - val_loss: 0.0920\n",
            "Epoch 82/100\n",
            "60000/60000 [==============================] - 2s 41us/step - loss: 0.0932 - val_loss: 0.0920\n",
            "Epoch 83/100\n",
            "60000/60000 [==============================] - 2s 41us/step - loss: 0.0932 - val_loss: 0.0920\n",
            "Epoch 84/100\n",
            "60000/60000 [==============================] - 2s 40us/step - loss: 0.0932 - val_loss: 0.0920\n",
            "Epoch 85/100\n",
            "60000/60000 [==============================] - 2s 40us/step - loss: 0.0932 - val_loss: 0.0920\n",
            "Epoch 86/100\n",
            "60000/60000 [==============================] - 2s 40us/step - loss: 0.0932 - val_loss: 0.0920\n",
            "Epoch 87/100\n",
            "60000/60000 [==============================] - 2s 41us/step - loss: 0.0932 - val_loss: 0.0920\n",
            "Epoch 88/100\n",
            "60000/60000 [==============================] - 2s 41us/step - loss: 0.0932 - val_loss: 0.0920\n",
            "Epoch 89/100\n",
            "60000/60000 [==============================] - 2s 40us/step - loss: 0.0932 - val_loss: 0.0919\n",
            "Epoch 90/100\n",
            "60000/60000 [==============================] - 2s 41us/step - loss: 0.0932 - val_loss: 0.0920\n",
            "Epoch 91/100\n",
            "60000/60000 [==============================] - 2s 41us/step - loss: 0.0932 - val_loss: 0.0919\n",
            "Epoch 92/100\n",
            "60000/60000 [==============================] - 2s 41us/step - loss: 0.0932 - val_loss: 0.0919\n",
            "Epoch 93/100\n",
            "60000/60000 [==============================] - 2s 40us/step - loss: 0.0932 - val_loss: 0.0920\n",
            "Epoch 94/100\n",
            "60000/60000 [==============================] - 2s 40us/step - loss: 0.0932 - val_loss: 0.0919\n",
            "Epoch 95/100\n",
            "60000/60000 [==============================] - 2s 41us/step - loss: 0.0932 - val_loss: 0.0919\n",
            "Epoch 96/100\n",
            "60000/60000 [==============================] - 2s 40us/step - loss: 0.0932 - val_loss: 0.0919\n",
            "Epoch 97/100\n",
            "60000/60000 [==============================] - 2s 39us/step - loss: 0.0932 - val_loss: 0.0919\n",
            "Epoch 98/100\n",
            "60000/60000 [==============================] - 2s 40us/step - loss: 0.0932 - val_loss: 0.0919\n",
            "Epoch 99/100\n",
            "60000/60000 [==============================] - 2s 40us/step - loss: 0.0932 - val_loss: 0.0919\n",
            "Epoch 100/100\n",
            "60000/60000 [==============================] - 2s 40us/step - loss: 0.0932 - val_loss: 0.0919\n"
          ],
          "name": "stdout"
        },
        {
          "output_type": "execute_result",
          "data": {
            "text/plain": [
              "<keras.callbacks.callbacks.History at 0x7efd33fc8208>"
            ]
          },
          "metadata": {
            "tags": []
          },
          "execution_count": 22
        }
      ]
    },
    {
      "cell_type": "code",
      "metadata": {
        "id": "IOHbgXqn6xKT"
      },
      "source": [
        "# encode and decode some digits\n",
        "# note that we take them from the *test* set\n",
        "encoded_imgs = encoder.predict(x_test)\n",
        "decoded_imgs = decoder.predict(encoded_imgs)"
      ],
      "execution_count": null,
      "outputs": []
    },
    {
      "cell_type": "code",
      "metadata": {
        "id": "mSdECefS6xfC",
        "colab": {
          "base_uri": "https://localhost:8080/",
          "height": 248
        },
        "outputId": "936428bb-7409-4ddd-d247-ceabfca6c252"
      },
      "source": [
        "# use Matplotlib (don't ask)\n",
        "import matplotlib.pyplot as plt\n",
        "\n",
        "n = 10  # how many digits we will display\n",
        "plt.figure(figsize=(20, 4))\n",
        "for i in range(n):\n",
        "    # display original\n",
        "    ax = plt.subplot(2, n, i + 1)\n",
        "    plt.imshow(x_test[i].reshape(28, 28))\n",
        "    plt.gray()\n",
        "    ax.get_xaxis().set_visible(False)\n",
        "    ax.get_yaxis().set_visible(False)\n",
        "\n",
        "    # display reconstruction\n",
        "    ax = plt.subplot(2, n, i + 1 + n)\n",
        "    plt.imshow(decoded_imgs[i].reshape(28, 28))\n",
        "    plt.gray()\n",
        "    ax.get_xaxis().set_visible(False)\n",
        "    ax.get_yaxis().set_visible(False)\n",
        "plt.show()"
      ],
      "execution_count": null,
      "outputs": [
        {
          "output_type": "display_data",
          "data": {
            "image/png": "[encoded data removed]",
            "text/plain": [
              "<Figure size 1440x288 with 20 Axes>"
            ]
          },
          "metadata": {
            "tags": [],
            "needs_background": "light"
          }
        }
      ]
    },
    {
      "cell_type": "markdown",
      "metadata": {
        "id": "d0lkIpPo27oB"
      },
      "source": [
        "### Application to image denoising"
      ]
    },
    {
      "cell_type": "code",
      "metadata": {
        "id": "5AFPT4K027oC"
      },
      "source": [
        "from keras.datasets import mnist\n",
        "import numpy as np\n",
        "\n",
        "(x_train, _), (x_test, _) = mnist.load_data()\n",
        "\n",
        "x_train = x_train.astype('float32') / 255.\n",
        "x_test = x_test.astype('float32') / 255.\n",
        "x_train = np.reshape(x_train, (len(x_train), 28, 28, 1))  # adapt this if using `channels_first` image data format\n",
        "x_test = np.reshape(x_test, (len(x_test), 28, 28, 1))  # adapt this if using `channels_first` image data format\n",
        "\n",
        "noise_factor = 0.5\n",
        "x_train_noisy = x_train + noise_factor * np.random.normal(loc=0.0, scale=1.0, size=x_train.shape) \n",
        "x_test_noisy = x_test + noise_factor * np.random.normal(loc=0.0, scale=1.0, size=x_test.shape) \n",
        "\n",
        "x_train_noisy = np.clip(x_train_noisy, 0., 1.)\n",
        "x_test_noisy = np.clip(x_test_noisy, 0., 1.)"
      ],
      "execution_count": null,
      "outputs": []
    },
    {
      "cell_type": "code",
      "metadata": {
        "id": "YPEx7Se927oG",
        "outputId": "ecdaae42-5151-4f5b-f549-66b4367a8118"
      },
      "source": [
        "n = 10\n",
        "plt.figure(figsize=(20, 2))\n",
        "for i in range(n):\n",
        "    ax = plt.subplot(1, n, i+1)\n",
        "    plt.imshow(x_test_noisy[i].reshape(28, 28))\n",
        "    plt.gray()\n",
        "    ax.get_xaxis().set_visible(False)\n",
        "    ax.get_yaxis().set_visible(False)\n",
        "plt.show()"
      ],
      "execution_count": null,
      "outputs": [
        {
          "output_type": "display_data",
          "data": {
            "image/png": "[encoded data removed]",
            "text/plain": [
              "<Figure size 1440x144 with 10 Axes>"
            ]
          },
          "metadata": {
            "tags": [],
            "needs_background": "light"
          }
        }
      ]
    },
    {
      "cell_type": "code",
      "metadata": {
        "id": "1Ux-iwsl27oK"
      },
      "source": [
        "from keras.layers import Input, Dense, Conv2D, MaxPooling2D, UpSampling2D\n",
        "input_img = Input(shape=(28, 28, 1))  # adapt this if using `channels_first` image data format\n",
        "\n",
        "x = Conv2D(32, (3, 3), activation='relu', padding='same')(input_img)\n",
        "x = MaxPooling2D((2, 2), padding='same')(x)\n",
        "x = Conv2D(32, (3, 3), activation='relu', padding='same')(x)\n",
        "encoded = MaxPooling2D((2, 2), padding='same')(x)\n",
        "\n",
        "# at this point the representation is (7, 7, 32)\n",
        "\n",
        "x = Conv2D(32, (3, 3), activation='relu', padding='same')(encoded)\n",
        "x = UpSampling2D((2, 2))(x)\n",
        "x = Conv2D(32, (3, 3), activation='relu', padding='same')(x)\n",
        "x = UpSampling2D((2, 2))(x)\n",
        "decoded = Conv2D(1, (3, 3), activation='sigmoid', padding='same')(x)\n",
        "\n",
        "autoencoder = Model(input_img, decoded)\n",
        "autoencoder.compile(optimizer='adadelta', loss='binary_crossentropy')"
      ],
      "execution_count": null,
      "outputs": []
    }
  ]
}