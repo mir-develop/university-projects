{
  "nbformat": 4,
  "nbformat_minor": 0,
  "metadata": {
    "colab": {
      "name": "Untitled2.ipynb",
      "provenance": [],
      "authorship_tag": "ABX9TyP1y9H610rmNG2yfzHk/gV3",
      "include_colab_link": true
    },
    "kernelspec": {
      "name": "python3",
      "display_name": "Python 3"
    },
    "language_info": {
      "name": "python"
    }
  },
  "cells": [
    {
      "cell_type": "markdown",
      "metadata": {
        "id": "view-in-github",
        "colab_type": "text"
      },
      "source": [
        "<a href=\"https://colab.research.google.com/github/mir-develop/university-projects-python/blob/main/arrays.ipynb\" target=\"_parent\"><img src=\"https://colab.research.google.com/assets/colab-badge.svg\" alt=\"Open In Colab\"/></a>"
      ]
    },
    {
      "cell_type": "code",
      "metadata": {
        "colab": {
          "base_uri": "https://localhost:8080/"
        },
        "id": "xsDXz2JnL4c0",
        "outputId": "fcffa770-59d5-41f0-e8fc-11273b7645b3"
      },
      "source": [
        "a_list = [12, 7.2, True, \"Михаил\", [1,2,3,4,5]]\n",
        "print(a_list)"
      ],
      "execution_count": null,
      "outputs": [
        {
          "output_type": "stream",
          "text": [
            "[12, 7.2, True, 'Михаил', [1, 2, 3, 4, 5]]\n"
          ],
          "name": "stdout"
        }
      ]
    },
    {
      "cell_type": "code",
      "metadata": {
        "colab": {
          "base_uri": "https://localhost:8080/"
        },
        "id": "AVkZT_mLMafk",
        "outputId": "d134afc0-89ff-417a-c7ad-93e427e64628"
      },
      "source": [
        "print(a_list)\n",
        "i = 1\n",
        "for color in a_list:\n",
        "    print(i, color,type(color))\n",
        "    i += 1"
      ],
      "execution_count": null,
      "outputs": [
        {
          "output_type": "stream",
          "text": [
            "[12, 7.2, True, 'Михаил', [1, 2, 3, 4, 5]]\n",
            "1 12 <class 'int'>\n",
            "2 7.2 <class 'float'>\n",
            "3 True <class 'bool'>\n",
            "4 Михаил <class 'str'>\n",
            "5 [1, 2, 3, 4, 5] <class 'list'>\n"
          ],
          "name": "stdout"
        }
      ]
    },
    {
      "cell_type": "code",
      "metadata": {
        "colab": {
          "base_uri": "https://localhost:8080/"
        },
        "id": "lYNHPNvQMfdL",
        "outputId": "7504c721-efdd-40b5-9964-1ac5c69eb4be"
      },
      "source": [
        "a_list.append('x')\n",
        "print(a_list)"
      ],
      "execution_count": null,
      "outputs": [
        {
          "output_type": "stream",
          "text": [
            "[12, 7.2, True, 'Михаил', [1, 2, 3, 4, 5], 'x']\n"
          ],
          "name": "stdout"
        }
      ]
    },
    {
      "cell_type": "code",
      "metadata": {
        "colab": {
          "base_uri": "https://localhost:8080/"
        },
        "id": "2wSQFttxM7dr",
        "outputId": "e21e7016-9c29-4150-a220-033ff31a9b15"
      },
      "source": [
        "a_list.reverse()\n",
        "print(a_list)"
      ],
      "execution_count": null,
      "outputs": [
        {
          "output_type": "stream",
          "text": [
            "['x', [1, 2, 3, 4, 5], 'Михаил', True, 7.2, 12]\n"
          ],
          "name": "stdout"
        }
      ]
    },
    {
      "cell_type": "code",
      "metadata": {
        "colab": {
          "base_uri": "https://localhost:8080/"
        },
        "id": "GrLO9JcdNxcV",
        "outputId": "5d2b783c-8589-4c90-dee5-b1074c402367"
      },
      "source": [
        "a_list.extend(\"t\")\n",
        "print(a_list)"
      ],
      "execution_count": null,
      "outputs": [
        {
          "output_type": "stream",
          "text": [
            "['x', [1, 2, 3, 4, 5], 'Михаил', True, 7.2, 12, 't']\n"
          ],
          "name": "stdout"
        }
      ]
    },
    {
      "cell_type": "code",
      "metadata": {
        "colab": {
          "base_uri": "https://localhost:8080/"
        },
        "id": "rooYNwWSONiu",
        "outputId": "e9a3a8d2-9304-47f3-a00c-75facdd6c850"
      },
      "source": [
        "s = \"Михаил Иванов Романович\"\n",
        "print(s)\n",
        "print(\"-\".join(s))"
      ],
      "execution_count": null,
      "outputs": [
        {
          "output_type": "stream",
          "text": [
            "Михаил Иванов Романович\n",
            "М-и-х-а-и-л- -И-в-а-н-о-в- -Р-о-м-а-н-о-в-и-ч\n"
          ],
          "name": "stdout"
        }
      ]
    },
    {
      "cell_type": "code",
      "metadata": {
        "colab": {
          "base_uri": "https://localhost:8080/"
        },
        "id": "Wc1SdA2BPUr6",
        "outputId": "c6bc83aa-b16a-4104-a786-1153d52eb518"
      },
      "source": [
        "s = 'Иванов Михаил Романович'\n",
        "s_list = s.split()\n",
        "print (s_list)\n",
        "b_list = [str(x) for x in s_list]\n",
        "print(type(b_list))"
      ],
      "execution_count": null,
      "outputs": [
        {
          "output_type": "stream",
          "text": [
            "['Иванов', 'Михаил', 'Романович']\n",
            "<class 'list'>\n"
          ],
          "name": "stdout"
        }
      ]
    },
    {
      "cell_type": "code",
      "metadata": {
        "id": "EVnPc6ZFQSOK",
        "outputId": "dbcae1f4-056e-43ad-da40-97aed001a9ff",
        "colab": {
          "base_uri": "https://localhost:8080/"
        }
      },
      "source": [
        "print(len(b_list))\n",
        "print(min(b_list))"
      ],
      "execution_count": null,
      "outputs": [
        {
          "output_type": "stream",
          "text": [
            "3\n",
            "Иванов\n"
          ],
          "name": "stdout"
        }
      ]
    }
  ]
}