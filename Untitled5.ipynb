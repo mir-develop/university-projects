{
  "nbformat": 4,
  "nbformat_minor": 0,
  "metadata": {
    "colab": {
      "name": "Untitled5.ipynb",
      "provenance": [],
      "authorship_tag": "ABX9TyNJD9rr0L+EzCBRxUu1MGRT",
      "include_colab_link": true
    },
    "kernelspec": {
      "name": "python3",
      "display_name": "Python 3"
    },
    "language_info": {
      "name": "python"
    }
  },
  "cells": [
    {
      "cell_type": "markdown",
      "metadata": {
        "id": "view-in-github",
        "colab_type": "text"
      },
      "source": [
        "<a href=\"https://colab.research.google.com/github/mir-develop/university-projects-python/blob/main/Untitled5.ipynb\" target=\"_parent\"><img src=\"https://colab.research.google.com/assets/colab-badge.svg\" alt=\"Open In Colab\"/></a>"
      ]
    },
    {
      "cell_type": "code",
      "metadata": {
        "colab": {
          "base_uri": "https://localhost:8080/",
          "height": 54
        },
        "id": "zTdyIdt7gMgd",
        "outputId": "97fe0e69-682f-4771-db76-c52a5a549645"
      },
      "source": [
        "def get_extension(filename):\n",
        "    filename_parts = filename.split('.')\n",
        "    if len(filename_parts) < 2:  # filename has no dots\n",
        "        raise ValueError('the file has no extension')\n",
        "    first, *middle, last = filename_parts\n",
        "    if not last or not first and not middle:\n",
        "        # example filenames: .filename, filename., file.name.\n",
        "        raise ValueError('the file has no extension')\n",
        "    return filename_parts[-1]\n",
        "\n",
        "get_extension(input())"
      ],
      "execution_count": null,
      "outputs": [
        {
          "output_type": "stream",
          "text": [
            "koks.rar\n"
          ],
          "name": "stdout"
        },
        {
          "output_type": "execute_result",
          "data": {
            "application/vnd.google.colaboratory.intrinsic+json": {
              "type": "string"
            },
            "text/plain": [
              "'rar'"
            ]
          },
          "metadata": {
            "tags": []
          },
          "execution_count": 4
        }
      ]
    }
  ]
}