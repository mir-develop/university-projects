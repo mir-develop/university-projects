{
  "nbformat": 4,
  "nbformat_minor": 0,
  "metadata": {
    "colab": {
      "name": "Untitled4.ipynb",
      "provenance": [],
      "collapsed_sections": [],
      "authorship_tag": "ABX9TyOz92vSMvsb/Cp5Xoz6iS6g",
      "include_colab_link": true
    },
    "kernelspec": {
      "name": "python3",
      "display_name": "Python 3"
    },
    "language_info": {
      "name": "python"
    }
  },
  "cells": [
    {
      "cell_type": "markdown",
      "metadata": {
        "id": "view-in-github",
        "colab_type": "text"
      },
      "source": [
        "<a href=\"https://colab.research.google.com/github/mir-develop/university-projects-python/blob/main/Untitled4.ipynb\" target=\"_parent\"><img src=\"https://colab.research.google.com/assets/colab-badge.svg\" alt=\"Open In Colab\"/></a>"
      ]
    },
    {
      "cell_type": "code",
      "metadata": {
        "colab": {
          "base_uri": "https://localhost:8080/"
        },
        "id": "4Gyh8kZkd5yu",
        "outputId": "aa11069e-36de-426b-c75f-b4ac54cfe072"
      },
      "source": [
        "s = input(\"Введите слово:\")\n",
        "\n",
        "def IsPalindrome(S):\n",
        "    if len(S) <= 1:\n",
        "        return True\n",
        "    else:\n",
        "        return S[0] == S[-1] and IsPalindrome(S[1:-1])\n",
        "\n",
        "print(IsPalindrome(s))        "
      ],
      "execution_count": null,
      "outputs": [
        {
          "output_type": "stream",
          "text": [
            "Введите слово:топот\n",
            "True\n"
          ],
          "name": "stdout"
        }
      ]
    }
  ]
}